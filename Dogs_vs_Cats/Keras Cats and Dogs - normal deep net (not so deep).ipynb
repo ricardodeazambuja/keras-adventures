{
 "cells": [
  {
   "cell_type": "markdown",
   "metadata": {
    "collapsed": true
   },
   "source": [
    "# Deep learning and Dogs vs. Cats - Part 1\n",
    "##  Data set https://www.kaggle.com/c/dogs-vs-cats\n",
    "(the data set should be installed in two directories just above the one where this notebook is located: train and test1)\n",
    "### http://ricardodeazambuja.com/deep_learning/2017/01/29/easy-peasy_deep_learning/"
   ]
  },
  {
   "cell_type": "code",
   "execution_count": 1,
   "metadata": {
    "collapsed": false
   },
   "outputs": [
    {
     "name": "stderr",
     "output_type": "stream",
     "text": [
      "Using Theano backend.\n",
      "Using gpu device 0: GeForce GT 750M (CNMeM is disabled, cuDNN 5005)\n"
     ]
    }
   ],
   "source": [
    "# The package 'os' will be necessary to find the current\n",
    "# working directory os.getcwd() and also to list all\n",
    "# files in a directory os.listdir().\n",
    "import os\n",
    "\n",
    "# https://docs.python.org/2/library/multiprocessing.html\n",
    "from multiprocessing import Pool\n",
    "\n",
    "# Only used for the final test\n",
    "import urllib, cStringIO\n",
    "\n",
    "# Yep, I don't like to import numpy as np :P\n",
    "import numpy\n",
    "\n",
    "# As I've explained somewhere, Scipy will help us\n",
    "# reading (using Pillow) and resizing images.\n",
    "import scipy.misc\n",
    "\n",
    "# Pyplot is what we use for plotting\n",
    "import matplotlib.pyplot as plt\n",
    "\n",
    "\n",
    "# And here is the Keras stuff:\n",
    "\n",
    "# We don't really need this since it would \n",
    "# be easy do code something like this ourselves\n",
    "from keras.utils import np_utils\n",
    "\n",
    "# https://keras.io/getting-started/sequential-model-guide/\n",
    "from keras.models import Sequential\n",
    "\n",
    "from keras.layers import Dense\n",
    "from keras.layers import Activation\n",
    "\n",
    "# https://keras.io/optimizers/\n",
    "from keras.optimizers import SGD\n",
    "from keras.optimizers import Adagrad \n",
    "\n",
    "# While the method for saving a model is\n",
    "# part of the model object, to load we need\n",
    "# to import something else\n",
    "from keras.models import load_model"
   ]
  },
  {
   "cell_type": "markdown",
   "metadata": {},
   "source": [
    "## 1) Load the data sets"
   ]
  },
  {
   "cell_type": "code",
   "execution_count": 2,
   "metadata": {
    "collapsed": false
   },
   "outputs": [],
   "source": [
    "# Returns the current working directory\n",
    "# (where the Python interpreter was called)\n",
    "path = os.getcwd()\n",
    "\n",
    "# The path separator used by the OS:\n",
    "sep = os.path.sep\n",
    "\n",
    "# This is the directory where the training images are located\n",
    "dirname = \"train\"\n",
    "\n",
    "# Generates a list of all images (actualy the filenames) from the training set,\n",
    "# but it will also include the full path\n",
    "imagePaths = [path+sep+dirname+sep+filename \n",
    "                  for filename in os.listdir(path+sep+dirname)]"
   ]
  },
  {
   "cell_type": "code",
   "execution_count": 3,
   "metadata": {
    "collapsed": false
   },
   "outputs": [],
   "source": [
    "# To speed up things, I will use parallel computing!\n",
    "# Pool lets me use its map method and select the number of parallel processes.\n",
    "\n",
    "def import_training_set(args):\n",
    "    '''\n",
    "    Reads the image from imagePath, resizes \n",
    "    and returns it together with its label and \n",
    "    original index.\n",
    "\n",
    "    '''\n",
    "    index,imagePath,new_image_size = args\n",
    "\n",
    "    # Reads the image\n",
    "    image = scipy.misc.imread(imagePath)\n",
    "\n",
    "    # Split will literally split a string at that character\n",
    "    # returning a list of strings.\n",
    "    # First we split according to the os.path.sep and keep \n",
    "    # only the last item from the list gererated ([-1]).\n",
    "    # This will give us the filename. \n",
    "    filename = imagePath.split(os.path.sep)[-1]\n",
    "    \n",
    "    # Then we split it again using \".\"  \n",
    "    # and extract the first item ([0]):\n",
    "    label = filename.split(\".\")[0]\n",
    "    \n",
    "    # and the second item ([1]):\n",
    "    original_index = filename.split(\".\")[1]\n",
    "\n",
    "    # Resizes the image (downsampling) to new_image_size and\n",
    "    # converts it to a 1D list (flatten).\n",
    "    input_vector = scipy.misc.imresize(image,new_image_size).flatten()\n",
    "\n",
    "    return (index,(original_index,label,input_vector))"
   ]
  },
  {
   "cell_type": "code",
   "execution_count": 4,
   "metadata": {
    "collapsed": true
   },
   "outputs": [],
   "source": [
    "# The size of the resized image.\n",
    "# After we apply the flatten method, it will become a list of 32x32x3 items (1024x3).\n",
    "# (Where is the 'x3' coming from? Our images are composed of three colors!)\n",
    "new_image_size = 32,32\n",
    "\n",
    "number_of_parallel_processes = 7\n",
    "\n",
    "# When the map is finished, we will receive a list with tuples:\n",
    "# (index, 'category', 1D resized image)\n",
    "# There's no guarantee about the ordering because they are running in parallel.\n",
    "ans = Pool(number_of_parallel_processes).map(import_training_set,[(i,img,new_image_size) \n",
    "                                                                  for i,img in enumerate(imagePaths)])"
   ]
  },
  {
   "cell_type": "code",
   "execution_count": 12,
   "metadata": {
    "collapsed": false
   },
   "outputs": [],
   "source": [
    "# Because import_training_set returns a tuple like this:\n",
    "# (index,(original_index,label,input_vector))\n",
    "# and index is unique, we can convert to a dictionary\n",
    "# to solve our problem with unordered items:\n",
    "training_set = dict(ans)\n",
    "\n",
    "# Gives a hint to the garbage collector...\n",
    "del ans"
   ]
  },
  {
   "cell_type": "code",
   "execution_count": 13,
   "metadata": {
    "collapsed": false
   },
   "outputs": [
    {
     "data": {
      "text/plain": [
       "('10104', 'cat', array([127, 100,  81, ..., 104,  83,  69], dtype=uint8))"
      ]
     },
     "execution_count": 13,
     "metadata": {},
     "output_type": "execute_result"
    }
   ],
   "source": [
    "training_set[120]"
   ]
  },
  {
   "cell_type": "markdown",
   "metadata": {},
   "source": [
    "## 2) Prepare the data set for Keras"
   ]
  },
  {
   "cell_type": "code",
   "execution_count": 7,
   "metadata": {
    "collapsed": true
   },
   "outputs": [],
   "source": [
    "# Let's imagine we don't know how many different labels we have.\n",
    "# (we know, they are 'cat' and 'dog'...)\n",
    "# A Python set can help us to create a list of unique labels.\n",
    "# (i[0]=>filename index, i[1]=>label, i[2]=>1D vector)\n",
    "unique_labels = set([i[1] for i in training_set.values()])\n",
    "\n",
    "# With a list of unique labels, we will generate a dictionary\n",
    "# to convert from a label (string) to a index (integer):\n",
    "labels2int = {j:i for i,j in enumerate(unique_labels)}\n",
    "\n",
    "\n",
    "# Creates a list with labels (ordered according to the dictionary index)\n",
    "labels = [labels2int[i[1]] for i in training_set.values()]"
   ]
  },
  {
   "cell_type": "code",
   "execution_count": 8,
   "metadata": {
    "collapsed": false
   },
   "outputs": [],
   "source": [
    "# Instead of '1' and '0', the function below will transform our labels\n",
    "# into vectors [0.,1.] and [1.,0.]:\n",
    "labels = np_utils.to_categorical(labels, 2)"
   ]
  },
  {
   "cell_type": "code",
   "execution_count": 9,
   "metadata": {
    "collapsed": true
   },
   "outputs": [],
   "source": [
    "# First, we will create a numpy array going from zero to len(training_set):\n",
    "# (dtype=int guarantees they are integers)\n",
    "random_selection = numpy.arange(len(training_set),dtype=int)\n",
    "\n",
    "# Then we create a random state object with our seed:\n",
    "# (the seed is useful to be able to reproduce our experiment later)\n",
    "seed = 12345\n",
    "rnd = numpy.random.RandomState(seed)\n",
    "\n",
    "# Finally we shuffle the random_selection array:\n",
    "rnd.shuffle(random_selection)"
   ]
  },
  {
   "cell_type": "code",
   "execution_count": 10,
   "metadata": {
    "collapsed": false
   },
   "outputs": [],
   "source": [
    "test_size=0.25 # we will use 25% for testing purposes\n",
    "\n",
    "# Breaking the code below to make it easier to understand:\n",
    "# => training_set[i][-1]\n",
    "# Returns the 1D vector from item 'i'.\n",
    "# => training_set[i][-1]/255.0\n",
    "# Normalizes the input values from 0. to 1.\n",
    "# => random_selection[:int(len(training_set)*(1-test_size))]\n",
    "# Gives us the first (1-test_size)*100% of the shuffled items\n",
    "trainData = [training_set[i][-1]/255.0 for i in random_selection[:int(len(training_set)*(1-test_size))]]\n",
    "trainData = numpy.array(trainData)\n",
    "\n",
    "trainLabels = [labels[i] for i in random_selection[:int(len(training_set)*(1-test_size))]]\n",
    "trainLabels = numpy.array(trainLabels)\n",
    "\n",
    "testData = [training_set[i][-1]/255.0 for i in random_selection[:int(len(training_set)*(test_size))]]\n",
    "testData = numpy.array(testData)\n",
    "\n",
    "testLabels = [labels[i] for i in random_selection[:int(len(training_set)*(test_size))]]\n",
    "testLabels = numpy.array(testLabels)"
   ]
  },
  {
   "cell_type": "markdown",
   "metadata": {},
   "source": [
    "## 3) Create the Sequential model"
   ]
  },
  {
   "cell_type": "code",
   "execution_count": 13,
   "metadata": {
    "collapsed": true
   },
   "outputs": [],
   "source": [
    "# https://keras.io/getting-started/sequential-model-guide/\n",
    "# define the architecture of the network\n",
    "model = Sequential()"
   ]
  },
  {
   "cell_type": "code",
   "execution_count": 14,
   "metadata": {
    "collapsed": false
   },
   "outputs": [],
   "source": [
    "# input layer has size \"input_dim\". The first hidden layer will have size 768, followed by 384 and 2.\n",
    "# 3072=>768=>384=>2\n",
    "model.add(Dense(768, input_dim=3072, init=\"uniform\"))\n",
    "model.add(Activation('relu'))"
   ]
  },
  {
   "cell_type": "code",
   "execution_count": 15,
   "metadata": {
    "collapsed": true
   },
   "outputs": [],
   "source": [
    "# Now this layer will have output dimension of 384\n",
    "model.add(Dense(384, init=\"uniform\"))\n",
    "model.add(Activation('relu'))"
   ]
  },
  {
   "cell_type": "code",
   "execution_count": 16,
   "metadata": {
    "collapsed": true
   },
   "outputs": [],
   "source": [
    "# Because we want to classify between only two classes (binary), the final output is 2\n",
    "model.add(Dense(2))\n",
    "model.add(Activation(\"softmax\"))"
   ]
  },
  {
   "cell_type": "markdown",
   "metadata": {},
   "source": [
    "## 4) Compile the model, learn and test against the 25% we saved as testing set"
   ]
  },
  {
   "cell_type": "markdown",
   "metadata": {},
   "source": [
    "### DON'T FORGET TO CREATE/RECREATE YOUR MODEL BEFORE COMPILING AND TRAINING"
   ]
  },
  {
   "cell_type": "code",
   "execution_count": 19,
   "metadata": {
    "collapsed": false
   },
   "outputs": [
    {
     "data": {
      "text/plain": [
       "<keras.callbacks.History at 0x13f053f90>"
      ]
     },
     "execution_count": 19,
     "metadata": {},
     "output_type": "execute_result"
    }
   ],
   "source": [
    "# learning rate=0.01\n",
    "sgd = SGD(lr=0.01)\n",
    "model.compile(loss=\"binary_crossentropy\", \n",
    "              optimizer=sgd, \n",
    "              metrics=[\"accuracy\"])\n",
    "model.fit(trainData, trainLabels, nb_epoch=20, batch_size=128, verbose=0)"
   ]
  },
  {
   "cell_type": "code",
   "execution_count": 28,
   "metadata": {
    "collapsed": false,
    "scrolled": true
   },
   "outputs": [
    {
     "name": "stdout",
     "output_type": "stream",
     "text": [
      "('Test score:', 0.13020923321247102)\n",
      "('Test accuracy:', 0.97744000049591062)\n"
     ]
    }
   ],
   "source": [
    "score = model.evaluate(testData, testLabels, batch_size=128, verbose=0)\n",
    "print('Test score:', score[0])\n",
    "print('Test accuracy:', score[1])"
   ]
  },
  {
   "cell_type": "code",
   "execution_count": 24,
   "metadata": {
    "collapsed": false
   },
   "outputs": [],
   "source": [
    "# model.save('my_model_SDG.h5')"
   ]
  },
  {
   "cell_type": "code",
   "execution_count": 17,
   "metadata": {
    "collapsed": false
   },
   "outputs": [],
   "source": [
    "# for a binary classification problem\n",
    "model.compile(optimizer='rmsprop',\n",
    "              loss='binary_crossentropy',\n",
    "              metrics=['accuracy'])\n",
    "model.fit(trainData, trainLabels, nb_epoch=50, batch_size=128, verbose=0)"
   ]
  },
  {
   "cell_type": "code",
   "execution_count": 18,
   "metadata": {
    "collapsed": false
   },
   "outputs": [],
   "source": [
    "score = model.evaluate(testData, testLabels, batch_size=128, verbose=0)\n",
    "print('Test score:', score[0])\n",
    "print('Test accuracy:', score[1])"
   ]
  },
  {
   "cell_type": "code",
   "execution_count": null,
   "metadata": {
    "collapsed": true
   },
   "outputs": [],
   "source": [
    "# model.save('my_model_RMSProp.h5')"
   ]
  },
  {
   "cell_type": "code",
   "execution_count": 20,
   "metadata": {
    "collapsed": false
   },
   "outputs": [],
   "source": [
    "from keras.optimizers import Adagrad \n",
    "\n",
    "ada = Adagrad(lr=0.01, epsilon=1e-08, decay=0.0)\n",
    "model.compile(loss=\"binary_crossentropy\", \n",
    "              optimizer=sgd, \n",
    "              metrics=[\"accuracy\"])\n",
    "model.fit(trainData, trainLabels, nb_epoch=50, batch_size=128, verbose=0)"
   ]
  },
  {
   "cell_type": "code",
   "execution_count": 1,
   "metadata": {
    "collapsed": false
   },
   "outputs": [],
   "source": [
    "score = model.evaluate(testData, testLabels, batch_size=128, verbose=0)\n",
    "print('Test score:', score[0])\n",
    "print('Test accuracy:', score[1])"
   ]
  },
  {
   "cell_type": "code",
   "execution_count": null,
   "metadata": {
    "collapsed": true
   },
   "outputs": [],
   "source": [
    "# model.save('my_model_Adagrad.h5')"
   ]
  },
  {
   "cell_type": "markdown",
   "metadata": {},
   "source": [
    "# Test the saved models using images never seen before by the neural network"
   ]
  },
  {
   "cell_type": "code",
   "execution_count": 39,
   "metadata": {
    "collapsed": false
   },
   "outputs": [],
   "source": [
    "# Loads my model that achieved accuracy 97.74%\n",
    "model = load_model('my_97perc_acc.h5')"
   ]
  },
  {
   "cell_type": "code",
   "execution_count": 157,
   "metadata": {
    "collapsed": false
   },
   "outputs": [],
   "source": [
    "# Randomly selects one image from our test set (same used for error calculation)\n",
    "idx = numpy.random.randint(0,testData.shape[0])\n",
    "X = testData[idx].reshape(1,testData[idx].shape[0])\n",
    "Y = testLabels[idx]"
   ]
  },
  {
   "cell_type": "code",
   "execution_count": 158,
   "metadata": {
    "collapsed": false
   },
   "outputs": [
    {
     "name": "stdout",
     "output_type": "stream",
     "text": [
      "Dog! [0.985450387001,0.0145495599136]\n"
     ]
    }
   ],
   "source": [
    "# [1.,0.]=>Dog\n",
    "# [0.,1.]=>Cat\n",
    "pred = model.predict(X)\n",
    "if pred[0,0]>pred[0,1]:\n",
    "    print(\"Dog! [{},{}]\".format(pred[0,0],pred[0,1]))\n",
    "else:\n",
    "    print(\"Cat! [{},{}]\".format(pred[0,0],pred[0,1]))"
   ]
  },
  {
   "cell_type": "code",
   "execution_count": 159,
   "metadata": {
    "collapsed": false
   },
   "outputs": [
    {
     "data": {
      "text/plain": [
       "('1039', 'dog', array([43, 56, 50, ..., 64, 76, 62], dtype=uint8))"
      ]
     },
     "execution_count": 159,
     "metadata": {},
     "output_type": "execute_result"
    }
   ],
   "source": [
    "training_set[random_selection[:int(len(training_set)*(test_size))][idx]]"
   ]
  },
  {
   "cell_type": "code",
   "execution_count": 160,
   "metadata": {
    "collapsed": false,
    "scrolled": true
   },
   "outputs": [
    {
     "data": {
      "image/png": "[encoded data removed]",
      "text/plain": [
       "<matplotlib.figure.Figure at 0x13fc9cd10>"
      ]
     },
     "metadata": {},
     "output_type": "display_data"
    }
   ],
   "source": [
    "# Visualization\n",
    "# But remember, the network was fed with the same data below reshaped as a 1D vector\n",
    "img = training_set[random_selection[:int(len(training_set)*(test_size))][idx]][-1].reshape((32,32,3))\n",
    "plt.imshow(img,interpolation='none')\n",
    "plt.show()"
   ]
  },
  {
   "cell_type": "markdown",
   "metadata": {},
   "source": [
    "## Testing using the test1 directory\n",
    "But first we need to load and prepare the images"
   ]
  },
  {
   "cell_type": "code",
   "execution_count": 47,
   "metadata": {
    "collapsed": true
   },
   "outputs": [],
   "source": [
    "# Returns the current working directory\n",
    "# (where the Python interpreter was called)\n",
    "path = os.getcwd()\n",
    "\n",
    "# The path separator used by the OS:\n",
    "sep = os.path.sep\n",
    "\n",
    "# This is the directory where the training images are located\n",
    "dirname = \"test1\"\n",
    "\n",
    "# Generates a list of all images (actualy the filenames) from the training set,\n",
    "# but it will also include the full path\n",
    "imagePaths = [path+sep+dirname+sep+filename \n",
    "                  for filename in os.listdir(path+sep+dirname)]"
   ]
  },
  {
   "cell_type": "code",
   "execution_count": 48,
   "metadata": {
    "collapsed": true
   },
   "outputs": [],
   "source": [
    "ans = Pool(number_of_parallel_processes).map(import_training_set,[(i,img,new_image_size) \n",
    "                                                                  for i,img in enumerate(imagePaths)])"
   ]
  },
  {
   "cell_type": "code",
   "execution_count": 49,
   "metadata": {
    "collapsed": true
   },
   "outputs": [],
   "source": [
    "testing_set = dict(ans)\n",
    "del ans # this is just to help saving memory..."
   ]
  },
  {
   "cell_type": "markdown",
   "metadata": {},
   "source": [
    "### Selects a random image"
   ]
  },
  {
   "cell_type": "code",
   "execution_count": 118,
   "metadata": {
    "collapsed": true
   },
   "outputs": [],
   "source": [
    "idx = numpy.random.randint(0,len(testing_set))\n",
    "X = testing_set[idx][-1].reshape(1,testing_set[idx][-1].shape[0])"
   ]
  },
  {
   "cell_type": "code",
   "execution_count": 119,
   "metadata": {
    "collapsed": false
   },
   "outputs": [
    {
     "name": "stdout",
     "output_type": "stream",
     "text": [
      "Dog! [1.0,0.0]\n"
     ]
    }
   ],
   "source": [
    "# [1.,0.]=>Dog\n",
    "# [0.,1.]=>Cat\n",
    "pred = model.predict(X)\n",
    "if pred[0,0]>pred[0,1]:\n",
    "    print(\"Dog! [{},{}]\".format(pred[0,0],pred[0,1]))\n",
    "else:\n",
    "    print(\"Cat! [{},{}]\".format(pred[0,0],pred[0,1]))"
   ]
  },
  {
   "cell_type": "code",
   "execution_count": 156,
   "metadata": {
    "collapsed": false
   },
   "outputs": [
    {
     "data": {
      "image/png": "[encoded data removed]",
      "text/plain": [
       "<matplotlib.figure.Figure at 0x13a78fad0>"
      ]
     },
     "metadata": {},
     "output_type": "display_data"
    }
   ],
   "source": [
    "img = testing_set[idx][-1].reshape((32,32,3))\n",
    "plt.imshow(img,interpolation='none')\n",
    "plt.show()"
   ]
  },
  {
   "cell_type": "markdown",
   "metadata": {},
   "source": [
    "## Loading an image from a URL"
   ]
  },
  {
   "cell_type": "code",
   "execution_count": 138,
   "metadata": {
    "collapsed": true
   },
   "outputs": [],
   "source": [
    "def get_img_from_url(url):\n",
    "    # http://stackoverflow.com/a/7391991\n",
    "    file = cStringIO.StringIO(urllib.urlopen(url).read())\n",
    "    return scipy.misc.imread(file)"
   ]
  },
  {
   "cell_type": "code",
   "execution_count": 139,
   "metadata": {
    "collapsed": true
   },
   "outputs": [],
   "source": [
    "dog_url = \"https://cdn.pixabay.com/photo/2016/02/19/15/46/dog-1210559_960_720.jpg\"\n",
    "cat_url = \"https://cdn.pixabay.com/photo/2014/03/29/09/17/cat-300572_960_720.jpg\""
   ]
  },
  {
   "cell_type": "code",
   "execution_count": 149,
   "metadata": {
    "collapsed": false
   },
   "outputs": [],
   "source": [
    "image = get_img_from_url(dog_url)"
   ]
  },
  {
   "cell_type": "code",
   "execution_count": 150,
   "metadata": {
    "collapsed": false
   },
   "outputs": [],
   "source": [
    "X = scipy.misc.imresize(image,(32,32)).flatten()"
   ]
  },
  {
   "cell_type": "code",
   "execution_count": 152,
   "metadata": {
    "collapsed": false
   },
   "outputs": [
    {
     "name": "stdout",
     "output_type": "stream",
     "text": [
      "Dog! [1.0,0.0]\n"
     ]
    }
   ],
   "source": [
    "# [1.,0.]=>Dog\n",
    "# [0.,1.]=>Cat\n",
    "pred = model.predict(X.reshape((1,X.shape[0])))\n",
    "if pred[0,0]>pred[0,1]:\n",
    "    print(\"Dog! [{},{}]\".format(pred[0,0],pred[0,1]))\n",
    "else:\n",
    "    print(\"Cat! [{},{}]\".format(pred[0,0],pred[0,1]))"
   ]
  },
  {
   "cell_type": "code",
   "execution_count": 155,
   "metadata": {
    "collapsed": false
   },
   "outputs": [
    {
     "data": {
      "image/png": "[encoded data removed]",
      "text/plain": [
       "<matplotlib.figure.Figure at 0x13a618990>"
      ]
     },
     "metadata": {},
     "output_type": "display_data"
    }
   ],
   "source": [
    "img = X.reshape((32,32,3))\n",
    "plt.imshow(img,interpolation='none')\n",
    "plt.show()"
   ]
  },
  {
   "cell_type": "code",
   "execution_count": null,
   "metadata": {
    "collapsed": true
   },
   "outputs": [],
   "source": []
  }
 ],
 "metadata": {
  "kernelspec": {
   "display_name": "Python 2",
   "language": "python",
   "name": "python2"
  },
  "language_info": {
   "codemirror_mode": {
    "name": "ipython",
    "version": 2
   },
   "file_extension": ".py",
   "mimetype": "text/x-python",
   "name": "python",
   "nbconvert_exporter": "python",
   "pygments_lexer": "ipython2",
   "version": "2.7.12"
  }
 },
 "nbformat": 4,
 "nbformat_minor": 0
}
